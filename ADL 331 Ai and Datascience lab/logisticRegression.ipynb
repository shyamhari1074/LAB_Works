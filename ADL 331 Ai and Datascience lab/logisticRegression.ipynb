{
 "cells": [
  {
   "cell_type": "code",
   "execution_count": 11,
   "id": "b5c5e986-0ff8-4047-947a-3bc1b0c43b7b",
   "metadata": {
    "include-cell-in-app": true
   },
   "outputs": [],
   "source": [
    "from sklearn.datasets import load_iris\n",
    "from sklearn.model_selection import train_test_split\n",
    "from sklearn.linear_model import LogisticRegression\n",
    "from sklearn.metrics import accuracy_score,precision_score,recall_score\n",
    "import numpy as np"
   ]
  },
  {
   "cell_type": "code",
   "execution_count": 19,
   "id": "53c80bab-30dc-4a8f-921f-6311ca418763",
   "metadata": {
    "include-cell-in-app": true
   },
   "outputs": [],
   "source": [
    "iris=load_iris()\n",
    "x=iris.data\n",
    "y=iris.target\n",
    "x_train,x_test,y_train,y_test=train_test_split(x,y,test_size=0.3,random_state=412)\n",
    "model=LogisticRegression().fit(x_train,y_train)\n",
    "pred=model.predict(x_test)"
   ]
  },
  {
   "cell_type": "code",
   "execution_count": 20,
   "id": "87a6dab8-698b-4917-9dc8-57a5f4600d11",
   "metadata": {
    "include-cell-in-app": true
   },
   "outputs": [
    {
     "name": "stdout",
     "output_type": "stream",
     "text": [
      "The accuracy is 0.9333333333333333\n",
      "sepal length (cm):0.3211162206526904\n",
      "sepal width (cm):0.5443286718640551\n",
      "petal length (cm):1.6377121116611935\n",
      "petal width (cm):1.1681048261966236\n"
     ]
    }
   ],
   "source": [
    "acc=accuracy_score(y_test,pred)\n",
    "print(f\"The accuracy is {acc}\")\n",
    "imp=np.mean(np.abs(model.coef_),axis=0)\n",
    "for feature_name,importance_value in zip(iris.feature_names,imp):\n",
    "    print(f\"{feature_name}:{importance_value}\")"
   ]
  },
  {
   "cell_type": "code",
   "execution_count": null,
   "id": "190a92cb-6821-4bb7-bbdd-9744b53cb345",
   "metadata": {
    "include-cell-in-app": true
   },
   "outputs": [],
   "source": []
  },
  {
   "cell_type": "code",
   "execution_count": null,
   "id": "56c6b9b6-5f14-4159-806d-032c084886e7",
   "metadata": {
    "include-cell-in-app": true
   },
   "outputs": [],
   "source": []
  }
 ],
 "metadata": {
  "kernelspec": {
   "display_name": "Python 3 (ipykernel)",
   "language": "python",
   "name": "python3"
  },
  "language_info": {
   "codemirror_mode": {
    "name": "ipython",
    "version": 3
   },
   "file_extension": ".py",
   "mimetype": "text/x-python",
   "name": "python",
   "nbconvert_exporter": "python",
   "pygments_lexer": "ipython3",
   "version": "3.13.0"
  }
 },
 "nbformat": 4,
 "nbformat_minor": 5
}
