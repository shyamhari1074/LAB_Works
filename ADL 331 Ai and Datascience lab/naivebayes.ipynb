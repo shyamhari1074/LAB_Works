{
 "cells": [
  {
   "cell_type": "code",
   "execution_count": 2,
   "id": "402b8e22-bf47-4e33-92a5-58db77513444",
   "metadata": {
    "include-cell-in-app": true
   },
   "outputs": [],
   "source": [
    "import numpy as np\n",
    "from sklearn.datasets import load_iris\n",
    "from sklearn.model_selection import train_test_split\n",
    "from sklearn.naive_bayes import GaussianNB\n",
    "from sklearn.metrics import accuracy_score,precision_score,recall_score"
   ]
  },
  {
   "cell_type": "code",
   "execution_count": 3,
   "id": "b58acdce-073d-4ff8-914d-c08a9037ad5b",
   "metadata": {
    "include-cell-in-app": true
   },
   "outputs": [],
   "source": [
    "iris=load_iris()\n",
    "x=iris.data\n",
    "y=iris.target\n",
    "x_train,x_test,y_train,y_test=train_test_split(x,y,test_size=0.3,random_state=432)\n",
    "model=GaussianNB().fit(x_train,y_train)"
   ]
  },
  {
   "cell_type": "code",
   "execution_count": 4,
   "id": "6fabd0bf-fd5a-49a2-b939-ce80ca9202c9",
   "metadata": {
    "include-cell-in-app": true
   },
   "outputs": [],
   "source": [
    "pred=model.predict(x_test)"
   ]
  },
  {
   "cell_type": "code",
   "execution_count": 8,
   "id": "d8f379d0-5860-4c38-bafd-2bbfe5ddc470",
   "metadata": {
    "include-cell-in-app": true
   },
   "outputs": [
    {
     "name": "stdout",
     "output_type": "stream",
     "text": [
      "Accuracy is:0.9777777777777777\n",
      " Precision is 0.9761904761904763\n",
      " Recall is 0.9814814814814815\n"
     ]
    }
   ],
   "source": [
    "acc=accuracy_score(y_test,pred)\n",
    "pre=precision_score(y_test,pred,average='macro')\n",
    "recall=recall_score(y_test,pred,average='macro')\n",
    "print(f\"Accuracy is:{acc}\\n Precision is {pre}\\n Recall is {recall}\")"
   ]
  },
  {
   "cell_type": "code",
   "execution_count": null,
   "id": "b84618e3-b869-4e68-9e88-1258d2f6dfb4",
   "metadata": {
    "include-cell-in-app": true
   },
   "outputs": [],
   "source": []
  }
 ],
 "metadata": {
  "kernelspec": {
   "display_name": "Python 3 (ipykernel)",
   "language": "python",
   "name": "python3"
  },
  "language_info": {
   "codemirror_mode": {
    "name": "ipython",
    "version": 3
   },
   "file_extension": ".py",
   "mimetype": "text/x-python",
   "name": "python",
   "nbconvert_exporter": "python",
   "pygments_lexer": "ipython3",
   "version": "3.13.0"
  }
 },
 "nbformat": 4,
 "nbformat_minor": 5
}
