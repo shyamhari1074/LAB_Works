{
 "cells": [
  {
   "cell_type": "code",
   "execution_count": 16,
   "id": "1bda8873-ce48-4166-8c30-dbff62f93d98",
   "metadata": {
    "include-cell-in-app": true
   },
   "outputs": [],
   "source": [
    "from sklearn.datasets import load_iris\n",
    "from sklearn.decomposition import PCA\n",
    "from sklearn.metrics import accuracy_score\n",
    "import numpy as np"
   ]
  },
  {
   "cell_type": "code",
   "execution_count": 17,
   "id": "c3dcf21f-3ce6-43c6-9566-5f35d809363a",
   "metadata": {
    "include-cell-in-app": true
   },
   "outputs": [],
   "source": [
    "iris=load_iris()\n",
    "pca=PCA()"
   ]
  },
  {
   "cell_type": "code",
   "execution_count": 18,
   "id": "873d4a44-13f4-446f-8dd8-617a440de591",
   "metadata": {
    "include-cell-in-app": true
   },
   "outputs": [],
   "source": [
    "x=iris.data"
   ]
  },
  {
   "cell_type": "code",
   "execution_count": 19,
   "id": "f3ee3285-12e2-474a-9ab9-214371318868",
   "metadata": {
    "include-cell-in-app": true
   },
   "outputs": [
    {
     "name": "stdout",
     "output_type": "stream",
     "text": [
      "Covariance before PCA is:\n",
      "[[ 0.68569351 -0.042434    1.27431544  0.51627069]\n",
      " [-0.042434    0.18997942 -0.32965638 -0.12163937]\n",
      " [ 1.27431544 -0.32965638  3.11627785  1.2956094 ]\n",
      " [ 0.51627069 -0.12163937  1.2956094   0.58100626]]\n"
     ]
    }
   ],
   "source": [
    "b_cov=np.cov(x.T)\n",
    "print(f\"Covariance before PCA is:\\n{b_cov}\")"
   ]
  },
  {
   "cell_type": "code",
   "execution_count": 20,
   "id": "86042e6d-eb8c-47c9-9f33-8c8b76df2d08",
   "metadata": {
    "include-cell-in-app": true
   },
   "outputs": [],
   "source": [
    "x_p=pca.fit_transform(x)"
   ]
  },
  {
   "cell_type": "code",
   "execution_count": 21,
   "id": "5b62b44d-7efd-4601-8ab0-d809b8d3fa1a",
   "metadata": {
    "include-cell-in-app": true
   },
   "outputs": [
    {
     "name": "stdout",
     "output_type": "stream",
     "text": [
      "Covarinace after PCA is :\n",
      "[[ 4.22824171e+00  2.15308755e-14  2.78971477e-15 -5.71578579e-15]\n",
      " [ 2.15308755e-14  2.42670748e-01 -1.77039591e-15 -6.44898005e-16]\n",
      " [ 2.78971477e-15 -1.77039591e-15  7.82095000e-02 -3.96774336e-15]\n",
      " [-5.71578579e-15 -6.44898005e-16 -3.96774336e-15  2.38350930e-02]]\n"
     ]
    }
   ],
   "source": [
    "a_cov=np.cov(x_p.T)\n",
    "print(f\"Covarinace after PCA is :\\n{a_cov}\")"
   ]
  },
  {
   "cell_type": "code",
   "execution_count": 33,
   "id": "a7dcf43f-4051-456b-97b0-366a45e37755",
   "metadata": {
    "include-cell-in-app": true
   },
   "outputs": [],
   "source": [
    "eigen_val,eigen_vec=np.linalg.eig(a_cov)"
   ]
  },
  {
   "cell_type": "code",
   "execution_count": 39,
   "id": "8e75c0b7-1d02-413d-8aa3-28450e01a419",
   "metadata": {
    "include-cell-in-app": true
   },
   "outputs": [
    {
     "name": "stdout",
     "output_type": "stream",
     "text": [
      "The optimum no of compenents is 2\n"
     ]
    }
   ],
   "source": [
    "explained_variance_ratio=pca.explained_variance_ratio_\n",
    "cum_variance=np.cumsum(explained_variance_ratio)\n",
    "opt_comp=np.argmax(cum_variance>=0.95)+1\n",
    "print(f\"The optimum no of compenents is {opt_comp}\")"
   ]
  }
 ],
 "metadata": {
  "kernelspec": {
   "display_name": "Python 3 (ipykernel)",
   "language": "python",
   "name": "python3"
  },
  "language_info": {
   "codemirror_mode": {
    "name": "ipython",
    "version": 3
   },
   "file_extension": ".py",
   "mimetype": "text/x-python",
   "name": "python",
   "nbconvert_exporter": "python",
   "pygments_lexer": "ipython3",
   "version": "3.13.0"
  }
 },
 "nbformat": 4,
 "nbformat_minor": 5
}
